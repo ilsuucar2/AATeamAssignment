{
 "cells": [
  {
   "cell_type": "markdown",
   "metadata": {},
   "source": [
    "# Step 1: Data Preparation\n",
    "\n",
    "Since data preparation is a crucial step in the data science and machine learning workflow, we start with having a look at our data, its structure and flaws. Our primary goals in this phase include, however we might not follow the order listed below:\n",
    "\n",
    "**1. Cleaning Data:**\n",
    "    - Removing or correcting errors and inconsistencies in the data.\n",
    "\n",
    "**2. Transforming Data:**\n",
    "    - Standardizing or normalizing numerical features to ensure consistency and comparability.\n",
    "    - Encoding categorical variables into numerical representations that can be used by machine learning algorithms.\n",
    "    - Creating new features or aggregating existing ones to extract more meaningful information.\n",
    "    \n",
    "**3. Handling Missing Values:**\n",
    "    - Choosing appropriate strategies for handling missing data, such as mean imputation, median imputation, or more advanced methods like regression imputation.\n",
    "    \n",
    "**4. Dealing with Outliers (We might decide to postpone this step to a later point.):**\n",
    "    - Identifying and addressing outliers that can significantly impact the analysis or model performance.\n",
    "    \n",
    "**5. Feature Engineering ((We might decide to postpone this step to a later point.)**:\n",
    "    - Selecting, transforming or creating new features to enhance the performance of our ML models.\n",
    "    \n",
    "**6. Data Formatting:**\n",
    "    - Ensuring that the data is in the right format for the chosen analysis and modeling techniques."
   ]
  },
  {
   "cell_type": "markdown",
   "metadata": {},
   "source": [
    "In the next steps, we import the necessary packages and load our datasets. We first start with the charging sessiong dataset."
   ]
  },
  {
   "cell_type": "code",
   "execution_count": 1,
   "metadata": {
    "ExecuteTime": {
     "end_time": "2023-12-11T11:42:21.783284Z",
     "start_time": "2023-12-11T11:42:18.775037Z"
    }
   },
   "outputs": [],
   "source": [
    "# import all necessary packages\n",
    "import pandas as pd\n",
    "import matplotlib.pyplot as plt"
   ]
  },
  {
   "cell_type": "code",
   "execution_count": 2,
   "metadata": {
    "ExecuteTime": {
     "end_time": "2023-12-11T11:42:23.480218Z",
     "start_time": "2023-12-11T11:42:21.785615Z"
    }
   },
   "outputs": [
    {
     "data": {
      "text/html": [
       "<div>\n",
       "<style scoped>\n",
       "    .dataframe tbody tr th:only-of-type {\n",
       "        vertical-align: middle;\n",
       "    }\n",
       "\n",
       "    .dataframe tbody tr th {\n",
       "        vertical-align: top;\n",
       "    }\n",
       "\n",
       "    .dataframe thead th {\n",
       "        text-align: right;\n",
       "    }\n",
       "</style>\n",
       "<table border=\"1\" class=\"dataframe\">\n",
       "  <thead>\n",
       "    <tr style=\"text-align: right;\">\n",
       "      <th></th>\n",
       "      <th>Unnamed: 0</th>\n",
       "      <th>id</th>\n",
       "      <th>connectionTime</th>\n",
       "      <th>disconnectTime</th>\n",
       "      <th>doneChargingTime</th>\n",
       "      <th>kWhDelivered</th>\n",
       "      <th>sessionID</th>\n",
       "      <th>siteID</th>\n",
       "      <th>spaceID</th>\n",
       "      <th>stationID</th>\n",
       "      <th>timezone</th>\n",
       "      <th>userID</th>\n",
       "      <th>userInputs</th>\n",
       "    </tr>\n",
       "  </thead>\n",
       "  <tbody>\n",
       "    <tr>\n",
       "      <th>0</th>\n",
       "      <td>0</td>\n",
       "      <td>5e23b149f9af8b5fe4b973cf</td>\n",
       "      <td>2020-01-02 13:08:54+00:00</td>\n",
       "      <td>2020-01-02 19:11:15+00:00</td>\n",
       "      <td>2020-01-02 17:31:35+00:00</td>\n",
       "      <td>25.016</td>\n",
       "      <td>1_1_179_810_2020-01-02 13:08:53.870034</td>\n",
       "      <td>1</td>\n",
       "      <td>AG-3F30</td>\n",
       "      <td>1-1-179-810</td>\n",
       "      <td>America/Los_Angeles</td>\n",
       "      <td>194.0</td>\n",
       "      <td>[{'WhPerMile': 250, 'kWhRequested': 25.0, 'mil...</td>\n",
       "    </tr>\n",
       "    <tr>\n",
       "      <th>1</th>\n",
       "      <td>1</td>\n",
       "      <td>5e23b149f9af8b5fe4b973d0</td>\n",
       "      <td>2020-01-02 13:36:50+00:00</td>\n",
       "      <td>2020-01-02 22:38:21+00:00</td>\n",
       "      <td>2020-01-02 20:18:05+00:00</td>\n",
       "      <td>33.097</td>\n",
       "      <td>1_1_193_825_2020-01-02 13:36:49.599853</td>\n",
       "      <td>1</td>\n",
       "      <td>AG-1F01</td>\n",
       "      <td>1-1-193-825</td>\n",
       "      <td>America/Los_Angeles</td>\n",
       "      <td>4275.0</td>\n",
       "      <td>[{'WhPerMile': 280, 'kWhRequested': 70.0, 'mil...</td>\n",
       "    </tr>\n",
       "    <tr>\n",
       "      <th>2</th>\n",
       "      <td>2</td>\n",
       "      <td>5e23b149f9af8b5fe4b973d1</td>\n",
       "      <td>2020-01-02 13:56:35+00:00</td>\n",
       "      <td>2020-01-03 00:39:22+00:00</td>\n",
       "      <td>2020-01-02 16:35:06+00:00</td>\n",
       "      <td>6.521</td>\n",
       "      <td>1_1_193_829_2020-01-02 13:56:35.214993</td>\n",
       "      <td>1</td>\n",
       "      <td>AG-1F03</td>\n",
       "      <td>1-1-193-829</td>\n",
       "      <td>America/Los_Angeles</td>\n",
       "      <td>344.0</td>\n",
       "      <td>[{'WhPerMile': 400, 'kWhRequested': 8.0, 'mile...</td>\n",
       "    </tr>\n",
       "    <tr>\n",
       "      <th>3</th>\n",
       "      <td>3</td>\n",
       "      <td>5e23b149f9af8b5fe4b973d2</td>\n",
       "      <td>2020-01-02 13:59:58+00:00</td>\n",
       "      <td>2020-01-02 16:38:39+00:00</td>\n",
       "      <td>2020-01-02 15:18:45+00:00</td>\n",
       "      <td>2.355</td>\n",
       "      <td>1_1_193_820_2020-01-02 13:59:58.309319</td>\n",
       "      <td>1</td>\n",
       "      <td>AG-1F04</td>\n",
       "      <td>1-1-193-820</td>\n",
       "      <td>America/Los_Angeles</td>\n",
       "      <td>1117.0</td>\n",
       "      <td>[{'WhPerMile': 400, 'kWhRequested': 8.0, 'mile...</td>\n",
       "    </tr>\n",
       "    <tr>\n",
       "      <th>4</th>\n",
       "      <td>4</td>\n",
       "      <td>5e23b149f9af8b5fe4b973d3</td>\n",
       "      <td>2020-01-02 14:00:01+00:00</td>\n",
       "      <td>2020-01-02 22:08:40+00:00</td>\n",
       "      <td>2020-01-02 18:17:30+00:00</td>\n",
       "      <td>13.375</td>\n",
       "      <td>1_1_193_819_2020-01-02 14:00:00.779967</td>\n",
       "      <td>1</td>\n",
       "      <td>AG-1F06</td>\n",
       "      <td>1-1-193-819</td>\n",
       "      <td>America/Los_Angeles</td>\n",
       "      <td>334.0</td>\n",
       "      <td>[{'WhPerMile': 400, 'kWhRequested': 16.0, 'mil...</td>\n",
       "    </tr>\n",
       "  </tbody>\n",
       "</table>\n",
       "</div>"
      ],
      "text/plain": [
       "   Unnamed: 0                        id             connectionTime  \\\n",
       "0           0  5e23b149f9af8b5fe4b973cf  2020-01-02 13:08:54+00:00   \n",
       "1           1  5e23b149f9af8b5fe4b973d0  2020-01-02 13:36:50+00:00   \n",
       "2           2  5e23b149f9af8b5fe4b973d1  2020-01-02 13:56:35+00:00   \n",
       "3           3  5e23b149f9af8b5fe4b973d2  2020-01-02 13:59:58+00:00   \n",
       "4           4  5e23b149f9af8b5fe4b973d3  2020-01-02 14:00:01+00:00   \n",
       "\n",
       "              disconnectTime           doneChargingTime  kWhDelivered  \\\n",
       "0  2020-01-02 19:11:15+00:00  2020-01-02 17:31:35+00:00        25.016   \n",
       "1  2020-01-02 22:38:21+00:00  2020-01-02 20:18:05+00:00        33.097   \n",
       "2  2020-01-03 00:39:22+00:00  2020-01-02 16:35:06+00:00         6.521   \n",
       "3  2020-01-02 16:38:39+00:00  2020-01-02 15:18:45+00:00         2.355   \n",
       "4  2020-01-02 22:08:40+00:00  2020-01-02 18:17:30+00:00        13.375   \n",
       "\n",
       "                                sessionID  siteID  spaceID    stationID  \\\n",
       "0  1_1_179_810_2020-01-02 13:08:53.870034       1  AG-3F30  1-1-179-810   \n",
       "1  1_1_193_825_2020-01-02 13:36:49.599853       1  AG-1F01  1-1-193-825   \n",
       "2  1_1_193_829_2020-01-02 13:56:35.214993       1  AG-1F03  1-1-193-829   \n",
       "3  1_1_193_820_2020-01-02 13:59:58.309319       1  AG-1F04  1-1-193-820   \n",
       "4  1_1_193_819_2020-01-02 14:00:00.779967       1  AG-1F06  1-1-193-819   \n",
       "\n",
       "              timezone  userID  \\\n",
       "0  America/Los_Angeles   194.0   \n",
       "1  America/Los_Angeles  4275.0   \n",
       "2  America/Los_Angeles   344.0   \n",
       "3  America/Los_Angeles  1117.0   \n",
       "4  America/Los_Angeles   334.0   \n",
       "\n",
       "                                          userInputs  \n",
       "0  [{'WhPerMile': 250, 'kWhRequested': 25.0, 'mil...  \n",
       "1  [{'WhPerMile': 280, 'kWhRequested': 70.0, 'mil...  \n",
       "2  [{'WhPerMile': 400, 'kWhRequested': 8.0, 'mile...  \n",
       "3  [{'WhPerMile': 400, 'kWhRequested': 8.0, 'mile...  \n",
       "4  [{'WhPerMile': 400, 'kWhRequested': 16.0, 'mil...  "
      ]
     },
     "execution_count": 2,
     "metadata": {},
     "output_type": "execute_result"
    }
   ],
   "source": [
    "# import dataset\n",
    "dfCharging = pd.read_csv(\"Data/charging_sessions.csv\")\n",
    "dfCharging.head()"
   ]
  },
  {
   "cell_type": "code",
   "execution_count": 3,
   "metadata": {
    "ExecuteTime": {
     "end_time": "2023-12-11T11:42:23.836076Z",
     "start_time": "2023-12-11T11:42:23.488357Z"
    }
   },
   "outputs": [
    {
     "name": "stdout",
     "output_type": "stream",
     "text": [
      "<class 'pandas.core.frame.DataFrame'>\n",
      "RangeIndex: 66450 entries, 0 to 66449\n",
      "Data columns (total 13 columns):\n",
      " #   Column            Non-Null Count  Dtype  \n",
      "---  ------            --------------  -----  \n",
      " 0   Unnamed: 0        66450 non-null  int64  \n",
      " 1   id                66450 non-null  object \n",
      " 2   connectionTime    66450 non-null  object \n",
      " 3   disconnectTime    66450 non-null  object \n",
      " 4   doneChargingTime  62362 non-null  object \n",
      " 5   kWhDelivered      66450 non-null  float64\n",
      " 6   sessionID         66450 non-null  object \n",
      " 7   siteID            66450 non-null  int64  \n",
      " 8   spaceID           66450 non-null  object \n",
      " 9   stationID         66450 non-null  object \n",
      " 10  timezone          66450 non-null  object \n",
      " 11  userID            49187 non-null  float64\n",
      " 12  userInputs        49187 non-null  object \n",
      "dtypes: float64(2), int64(2), object(9)\n",
      "memory usage: 6.6+ MB\n"
     ]
    }
   ],
   "source": [
    "dfCharging.info()"
   ]
  },
  {
   "cell_type": "code",
   "execution_count": 4,
   "metadata": {},
   "outputs": [
    {
     "name": "stdout",
     "output_type": "stream",
     "text": [
      "<class 'pandas.core.frame.DataFrame'>\n",
      "RangeIndex: 66450 entries, 0 to 66449\n",
      "Data columns (total 12 columns):\n",
      " #   Column            Non-Null Count  Dtype  \n",
      "---  ------            --------------  -----  \n",
      " 0   id                66450 non-null  object \n",
      " 1   connectionTime    66450 non-null  object \n",
      " 2   disconnectTime    66450 non-null  object \n",
      " 3   doneChargingTime  62362 non-null  object \n",
      " 4   kWhDelivered      66450 non-null  float64\n",
      " 5   sessionID         66450 non-null  object \n",
      " 6   siteID            66450 non-null  int64  \n",
      " 7   spaceID           66450 non-null  object \n",
      " 8   stationID         66450 non-null  object \n",
      " 9   timezone          66450 non-null  object \n",
      " 10  userID            49187 non-null  float64\n",
      " 11  userInputs        49187 non-null  object \n",
      "dtypes: float64(2), int64(1), object(9)\n",
      "memory usage: 6.1+ MB\n"
     ]
    }
   ],
   "source": [
    "#remove the first \"Unnamed\" Column\n",
    "dfCharging = dfCharging.drop('Unnamed: 0', axis=1)\n",
    "dfCharging.info()"
   ]
  },
  {
   "cell_type": "code",
   "execution_count": 5,
   "metadata": {},
   "outputs": [
    {
     "data": {
      "text/plain": [
       "1413"
      ]
     },
     "execution_count": 5,
     "metadata": {},
     "output_type": "execute_result"
    }
   ],
   "source": [
    "# test if there a duplicate rows\n",
    "len(dfCharging)-len(dfCharging.drop_duplicates())"
   ]
  },
  {
   "cell_type": "code",
   "execution_count": 6,
   "metadata": {
    "ExecuteTime": {
     "end_time": "2023-12-11T11:42:24.020231Z",
     "start_time": "2023-12-11T11:42:23.616397Z"
    }
   },
   "outputs": [],
   "source": [
    "# remove duplicate rows\n",
    "dfCharging = dfCharging.drop_duplicates()"
   ]
  },
  {
   "cell_type": "code",
   "execution_count": 7,
   "metadata": {
    "ExecuteTime": {
     "end_time": "2023-12-11T11:42:24.198263Z",
     "start_time": "2023-12-11T11:42:23.940145Z"
    }
   },
   "outputs": [
    {
     "name": "stdout",
     "output_type": "stream",
     "text": [
      "id                      0\n",
      "connectionTime          0\n",
      "disconnectTime          0\n",
      "doneChargingTime     4087\n",
      "kWhDelivered            0\n",
      "sessionID               0\n",
      "siteID                  0\n",
      "spaceID                 0\n",
      "stationID               0\n",
      "timezone                0\n",
      "userID              17215\n",
      "userInputs          17215\n",
      "dtype: int64\n"
     ]
    }
   ],
   "source": [
    "# Check for missing values\n",
    "print(dfCharging.isnull().sum())"
   ]
  },
  {
   "cell_type": "markdown",
   "metadata": {},
   "source": [
    "We note that the columns , 'userID', 'userInputs' and 'doneChargingTime' have a considerable number of missing values.\n",
    "\n",
    "First we check if the 'userID' matches the 'userInputs'"
   ]
  },
  {
   "cell_type": "code",
   "execution_count": 8,
   "metadata": {
    "ExecuteTime": {
     "end_time": "2023-12-11T11:42:24.235123Z",
     "start_time": "2023-12-11T11:42:24.065606Z"
    }
   },
   "outputs": [
    {
     "name": "stdout",
     "output_type": "stream",
     "text": [
      "Number of lines with missing \"userID\" and \"userIputs\": 17215\n",
      "Percentage of compliance: 100.00%\n"
     ]
    }
   ],
   "source": [
    "# Check whether the lines with missing 'userInputs' also have missing 'userID'\n",
    "missing_userInputs = dfCharging['userInputs'].isnull()\n",
    "missing_userID = dfCharging['userID'].isnull()\n",
    "\n",
    "# Check that the missing values match\n",
    "matching_missing = dfCharging[missing_userInputs & missing_userID]\n",
    "\n",
    "# Output the number of matching lines\n",
    "print(f'Number of lines with missing \"userID\" and \"userIputs\": {len(matching_missing)}')\n",
    "\n",
    "# Calculate percentage of match\n",
    "total_missing_userInputs = len(dfCharging[missing_userInputs])\n",
    "if total_missing_userInputs > 0:\n",
    "    matching_percentage = (len(matching_missing) / total_missing_userInputs) * 100\n",
    "    print(f'Percentage of compliance: {matching_percentage:.2f}%')\n"
   ]
  },
  {
   "cell_type": "code",
   "execution_count": 9,
   "metadata": {
    "ExecuteTime": {
     "end_time": "2023-12-11T11:42:24.278990Z",
     "start_time": "2023-12-11T11:42:24.141524Z"
    }
   },
   "outputs": [
    {
     "data": {
      "text/plain": [
       "0     194.0\n",
       "1    4275.0\n",
       "2     344.0\n",
       "3    1117.0\n",
       "4     334.0\n",
       "Name: userID, dtype: float64"
      ]
     },
     "execution_count": 9,
     "metadata": {},
     "output_type": "execute_result"
    }
   ],
   "source": [
    "dfCharging['userID'].head()"
   ]
  },
  {
   "cell_type": "code",
   "execution_count": 10,
   "metadata": {
    "ExecuteTime": {
     "end_time": "2023-12-11T11:42:24.287974Z",
     "start_time": "2023-12-11T11:42:24.162802Z"
    }
   },
   "outputs": [
    {
     "data": {
      "text/plain": [
       "0    [{'WhPerMile': 250, 'kWhRequested': 25.0, 'mil...\n",
       "1    [{'WhPerMile': 280, 'kWhRequested': 70.0, 'mil...\n",
       "2    [{'WhPerMile': 400, 'kWhRequested': 8.0, 'mile...\n",
       "3    [{'WhPerMile': 400, 'kWhRequested': 8.0, 'mile...\n",
       "4    [{'WhPerMile': 400, 'kWhRequested': 16.0, 'mil...\n",
       "Name: userInputs, dtype: object"
      ]
     },
     "execution_count": 10,
     "metadata": {},
     "output_type": "execute_result"
    }
   ],
   "source": [
    "dfCharging['userInputs'].head()"
   ]
  },
  {
   "cell_type": "code",
   "execution_count": 11,
   "metadata": {
    "ExecuteTime": {
     "end_time": "2023-12-11T11:42:24.288698Z",
     "start_time": "2023-12-11T11:42:24.177688Z"
    }
   },
   "outputs": [
    {
     "name": "stdout",
     "output_type": "stream",
     "text": [
      "[{'WhPerMile': 250, 'kWhRequested': 25.0, 'milesRequested': 100, 'minutesAvailable': 463, 'modifiedAt': 'Thu, 02 Jan 2020 13:09:39 GMT', 'paymentRequired': True, 'requestedDeparture': 'Thu, 02 Jan 2020 20:51:54 GMT', 'userID': 194}]\n",
      "\n",
      "\n",
      "[{'WhPerMile': 280, 'kWhRequested': 70.0, 'milesRequested': 250, 'minutesAvailable': 595, 'modifiedAt': 'Thu, 02 Jan 2020 13:37:11 GMT', 'paymentRequired': True, 'requestedDeparture': 'Thu, 02 Jan 2020 23:31:50 GMT', 'userID': 4275}]\n",
      "\n",
      "\n",
      "[{'WhPerMile': 400, 'kWhRequested': 8.0, 'milesRequested': 20, 'minutesAvailable': 60, 'modifiedAt': 'Thu, 02 Jan 2020 13:57:17 GMT', 'paymentRequired': True, 'requestedDeparture': 'Thu, 02 Jan 2020 14:56:35 GMT', 'userID': 344}]\n",
      "\n",
      "\n",
      "[{'WhPerMile': 400, 'kWhRequested': 8.0, 'milesRequested': 20, 'minutesAvailable': 65, 'modifiedAt': 'Thu, 02 Jan 2020 14:00:03 GMT', 'paymentRequired': True, 'requestedDeparture': 'Thu, 02 Jan 2020 15:04:58 GMT', 'userID': 1117}, {'WhPerMile': 400, 'kWhRequested': 8.0, 'milesRequested': 20, 'minutesAvailable': 65, 'modifiedAt': 'Thu, 02 Jan 2020 14:00:19 GMT', 'paymentRequired': True, 'requestedDeparture': 'Thu, 02 Jan 2020 15:04:58 GMT', 'userID': 1117}]\n",
      "\n",
      "\n",
      "[{'WhPerMile': 400, 'kWhRequested': 16.0, 'milesRequested': 40, 'minutesAvailable': 504, 'modifiedAt': 'Thu, 02 Jan 2020 14:00:13 GMT', 'paymentRequired': True, 'requestedDeparture': 'Thu, 02 Jan 2020 22:24:01 GMT', 'userID': 334}]\n",
      "\n",
      "\n"
     ]
    }
   ],
   "source": [
    "for i in range(5):\n",
    "    print(dfCharging['userInputs'].iloc[i])\n",
    "    print(\"\\n\")"
   ]
  },
  {
   "cell_type": "markdown",
   "metadata": {},
   "source": [
    "But another important point could be to check out if the amount of missing data in these columns is significantly high"
   ]
  },
  {
   "cell_type": "code",
   "execution_count": 12,
   "metadata": {
    "ExecuteTime": {
     "end_time": "2023-12-11T11:42:24.583002Z",
     "start_time": "2023-12-11T11:42:24.202583Z"
    }
   },
   "outputs": [
    {
     "name": "stdout",
     "output_type": "stream",
     "text": [
      "The percentage of missing data in userID: 26.469548103387304\n",
      "The percentage of missing data in userInputs: 26.469548103387304\n"
     ]
    }
   ],
   "source": [
    "#Calculate total amount of observations recorded\n",
    "total_observations_userID = len(dfCharging[\"userID\"])\n",
    "total_observations_userInputs = len(dfCharging[\"userInputs\"])\n",
    "\n",
    "#Calculate the amount of missing data\n",
    "total_missing_userID = dfCharging[\"userID\"].isnull().sum()\n",
    "total_missing_userInputs = dfCharging[\"userInputs\"].isnull().sum()\n",
    "\n",
    "#Calculate the percentage of missing values\n",
    "percentage_missing_userID = 100 * total_missing_userID / total_observations_userID\n",
    "percentage_missing_userInputs = 100 * total_missing_userInputs / total_observations_userInputs\n",
    "\n",
    "#Print the results\n",
    "print(\"The percentage of missing data in userID:\", percentage_missing_userID)\n",
    "print(\"The percentage of missing data in userInputs:\", percentage_missing_userInputs)\n",
    "\n"
   ]
  },
  {
   "cell_type": "markdown",
   "metadata": {},
   "source": [
    "### Dealing with Missing Data\n",
    "\n",
    "From the previous operations we see that almost a quarter of our data in these columns are missing. Therefore, we now have to decide how to deal with the missing data\n",
    "\n",
    "- Do we remove the rows with the missing data?\n",
    "\n",
    "- Do we keep the rows but ignore that these values are missing?\n",
    "\n",
    "- Do we consider ways to impute the missing values?"
   ]
  },
  {
   "cell_type": "code",
   "execution_count": 13,
   "metadata": {
    "ExecuteTime": {
     "end_time": "2023-12-11T11:42:24.668623Z",
     "start_time": "2023-12-11T11:42:24.217928Z"
    }
   },
   "outputs": [
    {
     "name": "stdout",
     "output_type": "stream",
     "text": [
      "              connectionTime             disconnectTime  \\\n",
      "0  2020-01-02 13:08:54+00:00  2020-01-02 19:11:15+00:00   \n",
      "1  2020-01-02 13:36:50+00:00  2020-01-02 22:38:21+00:00   \n",
      "2  2020-01-02 13:56:35+00:00  2020-01-03 00:39:22+00:00   \n",
      "3  2020-01-02 13:59:58+00:00  2020-01-02 16:38:39+00:00   \n",
      "4  2020-01-02 14:00:01+00:00  2020-01-02 22:08:40+00:00   \n",
      "\n",
      "            doneChargingTime  \n",
      "0  2020-01-02 17:31:35+00:00  \n",
      "1  2020-01-02 20:18:05+00:00  \n",
      "2  2020-01-02 16:35:06+00:00  \n",
      "3  2020-01-02 15:18:45+00:00  \n",
      "4  2020-01-02 18:17:30+00:00  \n"
     ]
    }
   ],
   "source": [
    "print(dfCharging[['connectionTime', 'disconnectTime', 'doneChargingTime']].head())"
   ]
  },
  {
   "cell_type": "code",
   "execution_count": 14,
   "metadata": {
    "ExecuteTime": {
     "end_time": "2023-12-11T11:42:24.696762Z",
     "start_time": "2023-12-11T11:42:24.245433Z"
    }
   },
   "outputs": [
    {
     "name": "stdout",
     "output_type": "stream",
     "text": [
      "The percentage of missing data in doneChargingTime: 6.284115195965374\n"
     ]
    }
   ],
   "source": [
    "#Calculate total amount of observations recorded\n",
    "total_observations_doneChargingTime = len(dfCharging[\"doneChargingTime\"])\n",
    "\n",
    "#Calculate the amount of missing data\n",
    "total_missing_doneChargingTime = dfCharging[\"doneChargingTime\"].isnull().sum()\n",
    "\n",
    "#Calculate the percentage of missing values\n",
    "percentage_missing_doneChargingTime = 100 * total_missing_doneChargingTime / total_observations_doneChargingTime\n",
    "\n",
    "#Print the results\n",
    "print(\"The percentage of missing data in doneChargingTime:\", percentage_missing_doneChargingTime)"
   ]
  },
  {
   "cell_type": "code",
   "execution_count": 15,
   "metadata": {
    "ExecuteTime": {
     "end_time": "2023-12-11T11:42:26.749504Z",
     "start_time": "2023-12-11T11:42:24.283032Z"
    }
   },
   "outputs": [
    {
     "name": "stdout",
     "output_type": "stream",
     "text": [
      "Median of Charging Duration: 2.76 hours\n",
      "Standard Deviation of Charging Duration: 3.06 hours\n"
     ]
    }
   ],
   "source": [
    "# Convert to datetime\n",
    "dfCharging['connectionTime'] = pd.to_datetime(dfCharging['connectionTime'])\n",
    "dfCharging['doneChargingTime'] = pd.to_datetime(dfCharging['doneChargingTime'])\n",
    "\n",
    "# Calculate the charging duration\n",
    "dfCharging['calculatedDuration'] = dfCharging['doneChargingTime'] - dfCharging['connectionTime']\n",
    "\n",
    "# Convert the charging duration to hours\n",
    "dfCharging['calculatedDurationHours'] = dfCharging['calculatedDuration'].dt.total_seconds() / 3600\n",
    "\n",
    "# Calculate the median and standard deviation of charging duration\n",
    "# These statistics provide insights into the central tendency and dispersion of charging durations across all sessions\n",
    "median_duration_hours = dfCharging['calculatedDurationHours'].median()\n",
    "std_duration_hours = dfCharging['calculatedDurationHours'].std()\n",
    "\n",
    "# Print the calculated statistics\n",
    "print(f'Median of Charging Duration: {median_duration_hours:.2f} hours')\n",
    "print(f'Standard Deviation of Charging Duration: {std_duration_hours:.2f} hours')"
   ]
  },
  {
   "cell_type": "code",
   "execution_count": 16,
   "metadata": {
    "ExecuteTime": {
     "end_time": "2023-12-11T11:42:28.144498Z",
     "start_time": "2023-12-11T11:42:26.765872Z"
    }
   },
   "outputs": [
    {
     "name": "stdout",
     "output_type": "stream",
     "text": [
      "Correlation between charging duration and kWh delivered in complete cases: 0.5322274987647438\n"
     ]
    },
    {
     "data": {
      "image/png": "[encoded data removed]",
      "text/plain": [
       "<Figure size 640x480 with 1 Axes>"
      ]
     },
     "metadata": {},
     "output_type": "display_data"
    }
   ],
   "source": [
    "# Calculate charging duration in hours\n",
    "dfCharging['chargingDuration'] = (dfCharging['doneChargingTime'] - dfCharging['connectionTime']).dt.total_seconds() / 3600\n",
    "\n",
    "# Create a subset with no missing values for analysis\n",
    "subset = dfCharging.dropna(subset=['chargingDuration', 'kWhDelivered'])\n",
    "\n",
    "# Calculate correlation on the subset\n",
    "correlation = subset['chargingDuration'].corr(subset['kWhDelivered'])\n",
    "print(f'Correlation between charging duration and kWh delivered in complete cases: {correlation}')\n",
    "\n",
    "# Scatter plot on the subset\n",
    "plt.scatter(subset['kWhDelivered'], subset['chargingDuration'])\n",
    "plt.xlabel('Energy Delivered in kWh')\n",
    "plt.ylabel('Charging Duration in Hours')\n",
    "plt.title('Relationship between Charging Duration and kWh Delivered in Complete Cases')\n",
    "plt.show()"
   ]
  },
  {
   "cell_type": "markdown",
   "metadata": {},
   "source": [
    "### Decision Point 1:\n",
    "Another column with a lot of missing data is the doneChargingTime column.\n",
    "\n",
    "But doneChargingTime could also be calculated using two other columns with zero missing values, for example by:\n",
    "\n",
    "*doneChargingTime = disconnectTime - connectionTime*\n",
    "\n",
    "But from line 11 we see that this is not the case, since a EV can still be connected to the system even though it has finished charging. So we should decide what to do:\n",
    " \n",
    "- Do we delete all columns in which there is nothing in doneChargingTime?\n",
    "\n",
    "- Do we calculate the median of how long it always took from connectionTime to doneChargingTime and then replace the median in the missing columns?\n",
    "\n",
    "'''\n",
    "dfCharging['connectionTime'] = pd.to_datetime(dfCharging['connectionTime'])\n",
    "dfCharging['disconnectTime'] = pd.to_datetime(dfCharging['disconnectTime'])\n",
    "dfCharging['doneChargingTime'] = pd.to_datetime(dfCharging['doneChargingTime'])\n",
    "\n",
    "dfCharging['calculatedDuration'] = dfCharging['doneChargingTime'] - dfCharging['connectionTime']\n",
    "\n",
    "median_duration = dfCharging['calculatedDuration'].median()\n",
    "\n",
    "dfCharging.loc[dfCharging['doneChargingTime'].isnull(), 'doneChargingTime'] = dfCharging['connectionTime'] + median_duration\n",
    "'''"
   ]
  },
  {
   "cell_type": "code",
   "execution_count": 17,
   "metadata": {
    "ExecuteTime": {
     "end_time": "2023-12-11T11:42:28.309169Z",
     "start_time": "2023-12-11T11:42:28.141015Z"
    }
   },
   "outputs": [
    {
     "data": {
      "text/html": [
       "<div>\n",
       "<style scoped>\n",
       "    .dataframe tbody tr th:only-of-type {\n",
       "        vertical-align: middle;\n",
       "    }\n",
       "\n",
       "    .dataframe tbody tr th {\n",
       "        vertical-align: top;\n",
       "    }\n",
       "\n",
       "    .dataframe thead th {\n",
       "        text-align: right;\n",
       "    }\n",
       "</style>\n",
       "<table border=\"1\" class=\"dataframe\">\n",
       "  <thead>\n",
       "    <tr style=\"text-align: right;\">\n",
       "      <th></th>\n",
       "      <th>city</th>\n",
       "      <th>timestamp</th>\n",
       "      <th>temperature</th>\n",
       "      <th>cloud_cover</th>\n",
       "      <th>cloud_cover_description</th>\n",
       "      <th>pressure</th>\n",
       "      <th>windspeed</th>\n",
       "      <th>precipitation</th>\n",
       "      <th>felt_temperature</th>\n",
       "    </tr>\n",
       "  </thead>\n",
       "  <tbody>\n",
       "    <tr>\n",
       "      <th>0</th>\n",
       "      <td>Burbank</td>\n",
       "      <td>2018-01-01 08:53:00</td>\n",
       "      <td>9.0</td>\n",
       "      <td>33.0</td>\n",
       "      <td>Fair</td>\n",
       "      <td>991.75</td>\n",
       "      <td>9.0</td>\n",
       "      <td>0.0</td>\n",
       "      <td>8.0</td>\n",
       "    </tr>\n",
       "    <tr>\n",
       "      <th>1</th>\n",
       "      <td>Burbank</td>\n",
       "      <td>2018-01-01 09:53:00</td>\n",
       "      <td>9.0</td>\n",
       "      <td>33.0</td>\n",
       "      <td>Fair</td>\n",
       "      <td>992.08</td>\n",
       "      <td>0.0</td>\n",
       "      <td>0.0</td>\n",
       "      <td>9.0</td>\n",
       "    </tr>\n",
       "    <tr>\n",
       "      <th>2</th>\n",
       "      <td>Burbank</td>\n",
       "      <td>2018-01-01 10:53:00</td>\n",
       "      <td>9.0</td>\n",
       "      <td>21.0</td>\n",
       "      <td>Haze</td>\n",
       "      <td>992.08</td>\n",
       "      <td>0.0</td>\n",
       "      <td>0.0</td>\n",
       "      <td>9.0</td>\n",
       "    </tr>\n",
       "    <tr>\n",
       "      <th>3</th>\n",
       "      <td>Burbank</td>\n",
       "      <td>2018-01-01 11:53:00</td>\n",
       "      <td>9.0</td>\n",
       "      <td>29.0</td>\n",
       "      <td>Partly Cloudy</td>\n",
       "      <td>992.08</td>\n",
       "      <td>0.0</td>\n",
       "      <td>0.0</td>\n",
       "      <td>9.0</td>\n",
       "    </tr>\n",
       "    <tr>\n",
       "      <th>4</th>\n",
       "      <td>Burbank</td>\n",
       "      <td>2018-01-01 12:53:00</td>\n",
       "      <td>8.0</td>\n",
       "      <td>33.0</td>\n",
       "      <td>Fair</td>\n",
       "      <td>992.08</td>\n",
       "      <td>0.0</td>\n",
       "      <td>0.0</td>\n",
       "      <td>8.0</td>\n",
       "    </tr>\n",
       "  </tbody>\n",
       "</table>\n",
       "</div>"
      ],
      "text/plain": [
       "      city            timestamp  temperature  cloud_cover  \\\n",
       "0  Burbank  2018-01-01 08:53:00          9.0         33.0   \n",
       "1  Burbank  2018-01-01 09:53:00          9.0         33.0   \n",
       "2  Burbank  2018-01-01 10:53:00          9.0         21.0   \n",
       "3  Burbank  2018-01-01 11:53:00          9.0         29.0   \n",
       "4  Burbank  2018-01-01 12:53:00          8.0         33.0   \n",
       "\n",
       "  cloud_cover_description  pressure  windspeed  precipitation  \\\n",
       "0                    Fair    991.75        9.0            0.0   \n",
       "1                    Fair    992.08        0.0            0.0   \n",
       "2                    Haze    992.08        0.0            0.0   \n",
       "3           Partly Cloudy    992.08        0.0            0.0   \n",
       "4                    Fair    992.08        0.0            0.0   \n",
       "\n",
       "   felt_temperature  \n",
       "0               8.0  \n",
       "1               9.0  \n",
       "2               9.0  \n",
       "3               9.0  \n",
       "4               8.0  "
      ]
     },
     "execution_count": 17,
     "metadata": {},
     "output_type": "execute_result"
    }
   ],
   "source": [
    "#Load the weather data from burbank airport\n",
    "dfWeather = pd.read_csv(\"Data/weather_burbank_airport.csv\")\n",
    "dfWeather.head()"
   ]
  },
  {
   "cell_type": "code",
   "execution_count": 18,
   "metadata": {
    "ExecuteTime": {
     "end_time": "2023-12-11T11:42:28.368645Z",
     "start_time": "2023-12-11T11:42:28.303193Z"
    }
   },
   "outputs": [
    {
     "name": "stdout",
     "output_type": "stream",
     "text": [
      "<class 'pandas.core.frame.DataFrame'>\n",
      "RangeIndex: 29244 entries, 0 to 29243\n",
      "Data columns (total 9 columns):\n",
      " #   Column                   Non-Null Count  Dtype  \n",
      "---  ------                   --------------  -----  \n",
      " 0   city                     29244 non-null  object \n",
      " 1   timestamp                29244 non-null  object \n",
      " 2   temperature              29219 non-null  float64\n",
      " 3   cloud_cover              29224 non-null  float64\n",
      " 4   cloud_cover_description  29224 non-null  object \n",
      " 5   pressure                 29236 non-null  float64\n",
      " 6   windspeed                29158 non-null  float64\n",
      " 7   precipitation            29244 non-null  float64\n",
      " 8   felt_temperature         29218 non-null  float64\n",
      "dtypes: float64(6), object(3)\n",
      "memory usage: 2.0+ MB\n"
     ]
    }
   ],
   "source": [
    "dfWeather.info()"
   ]
  },
  {
   "cell_type": "code",
   "execution_count": 19,
   "metadata": {
    "ExecuteTime": {
     "end_time": "2023-12-11T11:42:28.475968Z",
     "start_time": "2023-12-11T11:42:28.325137Z"
    }
   },
   "outputs": [
    {
     "data": {
      "text/plain": [
       "0"
      ]
     },
     "execution_count": 19,
     "metadata": {},
     "output_type": "execute_result"
    }
   ],
   "source": [
    "# test if there a duplicate rows\n",
    "len(dfWeather)-len(dfWeather.drop_duplicates())"
   ]
  },
  {
   "cell_type": "markdown",
   "metadata": {},
   "source": [
    "No duplicates available"
   ]
  },
  {
   "cell_type": "code",
   "execution_count": 20,
   "metadata": {
    "ExecuteTime": {
     "end_time": "2023-12-11T11:42:28.580393Z",
     "start_time": "2023-12-11T11:42:28.378517Z"
    }
   },
   "outputs": [
    {
     "name": "stdout",
     "output_type": "stream",
     "text": [
      "city                        0\n",
      "timestamp                   0\n",
      "temperature                25\n",
      "cloud_cover                20\n",
      "cloud_cover_description    20\n",
      "pressure                    8\n",
      "windspeed                  86\n",
      "precipitation               0\n",
      "felt_temperature           26\n",
      "dtype: int64\n"
     ]
    }
   ],
   "source": [
    "# Check for missing values\n",
    "print(dfWeather.isnull().sum())"
   ]
  },
  {
   "cell_type": "markdown",
   "metadata": {},
   "source": [
    "The columns , ‘temperature’, ‘cloud_cover’, 'cloud_cover_description', 'pressure', 'windspeed' and ‘felt_temperature’ have a number of missing values.\n",
    "\n",
    "First we check if 'cloud_cover' and 'cloud_cover_description' columns match the userInputs"
   ]
  },
  {
   "cell_type": "code",
   "execution_count": 21,
   "metadata": {
    "ExecuteTime": {
     "end_time": "2023-12-11T11:42:28.581452Z",
     "start_time": "2023-12-11T11:42:28.400733Z"
    }
   },
   "outputs": [
    {
     "name": "stdout",
     "output_type": "stream",
     "text": [
      "Number of lines with missing \"cloud_cover\" and \"cloud_cover_description\": 20\n",
      "Percentage of compliance: 100.00%\n"
     ]
    }
   ],
   "source": [
    "# Check whether the lines with missing 'cloud_cover' also have missing 'cloud_cover_description'\n",
    "missing_userInputs = dfWeather['cloud_cover'].isnull()\n",
    "missing_userID = dfWeather['cloud_cover_description'].isnull()\n",
    "\n",
    "# Check that the missing values match\n",
    "matching_missing = dfWeather[missing_userInputs & missing_userID]\n",
    "\n",
    "# Output the number of matching lines\n",
    "print(f'Number of lines with missing \"cloud_cover\" and \"cloud_cover_description\": {len(matching_missing)}')\n",
    "\n",
    "# Calculate percentage of match\n",
    "total_missing_userInputs = len(dfWeather[missing_userInputs])\n",
    "if total_missing_userInputs > 0:\n",
    "    matching_percentage = (len(matching_missing) / total_missing_userInputs) * 100\n",
    "    print(f'Percentage of compliance: {matching_percentage:.2f}%')"
   ]
  },
  {
   "cell_type": "markdown",
   "metadata": {},
   "source": [
    "At this point we could again check if the amount of missing data is significantly high"
   ]
  },
  {
   "cell_type": "code",
   "execution_count": 22,
   "metadata": {
    "ExecuteTime": {
     "end_time": "2023-12-11T11:42:28.582477Z",
     "start_time": "2023-12-11T11:42:28.427273Z"
    }
   },
   "outputs": [
    {
     "name": "stdout",
     "output_type": "stream",
     "text": [
      "The percentage of missing data in cloud_cover: 0.0683900971139379\n",
      "The percentage of missing data in cloud_cover_description: 0.0683900971139379\n"
     ]
    }
   ],
   "source": [
    "#Calculate total amount of observations recorded\n",
    "total_observations_cloud_cover = len(dfWeather[\"cloud_cover\"])\n",
    "total_observations_cloud_cover_description = len(dfWeather[\"cloud_cover_description\"])\n",
    "\n",
    "#Calculate the amount of missing data\n",
    "total_missing_cloud_cover = dfWeather[\"cloud_cover\"].isnull().sum()\n",
    "total_missing_cloud_cover_description = dfWeather[\"cloud_cover_description\"].isnull().sum()\n",
    "\n",
    "#Calculate the percentage of missing values\n",
    "percentage_missing_cloud_cover = 100 * total_missing_cloud_cover / total_observations_cloud_cover\n",
    "percentage_missing_cloud_cover_description = 100 * total_missing_cloud_cover_description / total_observations_cloud_cover_description\n",
    "\n",
    "#Print the results\n",
    "print(\"The percentage of missing data in cloud_cover:\", percentage_missing_cloud_cover)\n",
    "print(\"The percentage of missing data in cloud_cover_description:\", percentage_missing_cloud_cover_description)\n",
    "\n"
   ]
  },
  {
   "cell_type": "markdown",
   "metadata": {},
   "source": [
    "We see that only 0,068% of our data is missing. We now could check the other columns with missing values to see how much of our data is missing there. We build a a for loop to do this faster. "
   ]
  },
  {
   "cell_type": "code",
   "execution_count": 23,
   "metadata": {
    "ExecuteTime": {
     "end_time": "2023-12-11T11:42:28.680102Z",
     "start_time": "2023-12-11T11:42:28.446089Z"
    }
   },
   "outputs": [
    {
     "name": "stdout",
     "output_type": "stream",
     "text": [
      "Percentage of missing values in temperature: 0.09%\n",
      "Percentage of missing values in pressure: 0.03%\n",
      "Percentage of missing values in windspeed: 0.29%\n",
      "Percentage of missing values in felt_temperature: 0.09%\n"
     ]
    }
   ],
   "source": [
    "# List of columns to check for missing values\n",
    "columns_to_check = [\"temperature\", \"pressure\", \"windspeed\", \"felt_temperature\"] \n",
    "\n",
    "for column in columns_to_check:\n",
    "    total_observations = len(dfWeather[column])\n",
    "    total_missing = dfWeather[column].isnull().sum()\n",
    "    percentage_missing = 100 * total_missing / total_observations\n",
    "    print(f\"Percentage of missing values in {column}: {percentage_missing:.2f}%\")\n"
   ]
  },
  {
   "cell_type": "markdown",
   "metadata": {},
   "source": [
    "### Decision Point 2:\n",
    "\n",
    "We now have to decide what to do with the missing data\n",
    "\n",
    "- Do we remove the rows with the missing data?\n",
    "\n",
    "- Do we keep the rows but ignore that these values are missing?\n",
    "\n",
    "- Do we consider ways to impute the missing values?\n",
    "\n",
    "For **weather data** we decide apply mean imputation for the following columns:\n",
    "\n",
    "- temperature\n",
    "- cloud cover\n",
    "- pressure\n",
    "- windspeed\n",
    "- felt temperature"
   ]
  },
  {
   "cell_type": "code",
   "execution_count": 24,
   "metadata": {
    "ExecuteTime": {
     "end_time": "2023-12-11T11:42:28.937126Z",
     "start_time": "2023-12-11T11:42:28.469399Z"
    }
   },
   "outputs": [
    {
     "name": "stdout",
     "output_type": "stream",
     "text": [
      "city                        0\n",
      "timestamp                   0\n",
      "temperature                 0\n",
      "cloud_cover                 0\n",
      "cloud_cover_description    20\n",
      "pressure                    0\n",
      "windspeed                   0\n",
      "precipitation               0\n",
      "felt_temperature            0\n",
      "dtype: int64\n"
     ]
    }
   ],
   "source": [
    "# Sort the DataFrame by timestamp\n",
    "dfWeather.sort_values(by='timestamp', inplace=True)\n",
    "\n",
    "# Function to impute missing values using the mean of neighboring values\n",
    "def impute_missing_values(column, window_size=5):\n",
    "    # Calculate the mean using a rolling window\n",
    "    # We have to use a window for the cases where some neighboring values are also missing.\n",
    "    return column.fillna(column.rolling(window=window_size, min_periods=1).mean())\n",
    "\n",
    "# Apply the imputation function to the specified columns\n",
    "columns_to_impute = ['temperature', 'cloud_cover', 'windspeed', 'pressure',\"felt_temperature\"]\n",
    "\n",
    "for column in columns_to_impute:\n",
    "    dfWeather[column] = impute_missing_values(dfWeather[column])\n",
    "\n",
    "# Verify the changes\n",
    "print(dfWeather.isnull().sum())\n",
    "\n"
   ]
  },
  {
   "cell_type": "code",
   "execution_count": 25,
   "metadata": {
    "ExecuteTime": {
     "end_time": "2023-12-11T11:42:32.877753Z",
     "start_time": "2023-12-11T11:42:28.617022Z"
    }
   },
   "outputs": [
    {
     "name": "stdout",
     "output_type": "stream",
     "text": [
      "city                       0\n",
      "timestamp                  0\n",
      "temperature                0\n",
      "cloud_cover                0\n",
      "cloud_cover_description    0\n",
      "pressure                   0\n",
      "windspeed                  0\n",
      "precipitation              0\n",
      "felt_temperature           0\n",
      "dtype: int64\n"
     ]
    }
   ],
   "source": [
    "def fill_missing_cloud_cover_description(dfWeather):\n",
    "    dfWeather = dfWeather.sort_values(by='timestamp')  # Actually not needed because of the previous function\n",
    "\n",
    "    for index, row in dfWeather.iterrows():\n",
    "        if pd.isnull(row['cloud_cover_description']):\n",
    "            # Round the 'cloud_cover' value\n",
    "            rounded_cloud_cover = round(row['cloud_cover'])\n",
    "\n",
    "            # Try to find a match with the rounded 'cloud_cover'\n",
    "            matching_rows = dfWeather[(round(dfWeather['cloud_cover']) == rounded_cloud_cover) & (~pd.isnull(dfWeather['cloud_cover_description']))]\n",
    "\n",
    "            if not matching_rows.empty:\n",
    "                matching_description = matching_rows['cloud_cover_description'].values[0]\n",
    "                dfWeather.at[index, 'cloud_cover_description'] = matching_description\n",
    "            else:\n",
    "                # If no match is found, try to find a match for 'rounded_cloud_cover + 1'\n",
    "                next_matching_rows = dfWeather[(round(dfWeather['cloud_cover']) == rounded_cloud_cover + 1) & (~pd.isnull(dfWeather['cloud_cover_description']))]\n",
    "\n",
    "                if not next_matching_rows.empty:\n",
    "                    next_matching_description = next_matching_rows['cloud_cover_description'].values[0]\n",
    "                    dfWeather.at[index, 'cloud_cover_description'] = next_matching_description\n",
    "\n",
    "    return dfWeather\n",
    "\n",
    "dfWeather = fill_missing_cloud_cover_description(dfWeather)\n",
    "\n",
    "# Verify the changes\n",
    "print(dfWeather.isnull().sum())\n"
   ]
  },
  {
   "cell_type": "code",
   "execution_count": 26,
   "metadata": {
    "ExecuteTime": {
     "end_time": "2023-12-11T11:42:33.449832Z",
     "start_time": "2023-12-11T11:42:32.899809Z"
    }
   },
   "outputs": [],
   "source": [
    "# Convert the time columns to datetime objects\n",
    "dfCharging['connectionTime'] = pd.to_datetime(dfCharging['connectionTime'])\n",
    "dfCharging['disconnectTime'] = pd.to_datetime(dfCharging['disconnectTime'])\n",
    "dfCharging['doneChargingTime'] = pd.to_datetime(dfCharging['doneChargingTime'])\n",
    "\n",
    "# Compute the time differences\n",
    "dfCharging['disconnectDuration'] = dfCharging['disconnectTime'] - dfCharging['connectionTime']\n",
    "dfCharging['doneChargingDuration'] = dfCharging['doneChargingTime'] - dfCharging['connectionTime']\n",
    "dfCharging['doneToDisconnectDuration'] = dfCharging['disconnectTime'] - dfCharging['doneChargingTime']\n",
    "\n",
    "\n",
    "\n"
   ]
  },
  {
   "cell_type": "code",
   "execution_count": 27,
   "metadata": {
    "ExecuteTime": {
     "end_time": "2023-12-11T11:42:37.065439Z",
     "start_time": "2023-12-11T11:42:33.457675Z"
    }
   },
   "outputs": [
    {
     "data": {
      "text/plain": [
       "<matplotlib.legend.Legend at 0x16fd647ef40>"
      ]
     },
     "execution_count": 27,
     "metadata": {},
     "output_type": "execute_result"
    },
    {
     "data": {
      "image/png": "[encoded data removed]",
      "text/plain": [
       "<Figure size 1000x600 with 1 Axes>"
      ]
     },
     "metadata": {},
     "output_type": "display_data"
    }
   ],
   "source": [
    "from matplotlib import pyplot as plt\n",
    "\n",
    "# Plot the duration\n",
    "plt.figure(figsize=(10, 6))\n",
    "\n",
    "plt.plot(dfCharging['connectionTime'], dfCharging['disconnectDuration'].dt.total_seconds() / 3600,\n",
    "         marker='o', linestyle='-', color='b', label='Connection to Disconnect Duration')\n",
    "plt.plot(dfCharging['connectionTime'], dfCharging['doneChargingDuration'].dt.total_seconds() / 3600,\n",
    "         marker='o', linestyle='-', color='r', label='Connection to Done Charging Duration')\n",
    "\n",
    "plt.legend()"
   ]
  },
  {
   "cell_type": "code",
   "execution_count": 28,
   "metadata": {
    "ExecuteTime": {
     "end_time": "2023-12-11T11:42:38.763264Z",
     "start_time": "2023-12-11T11:42:37.099594Z"
    }
   },
   "outputs": [
    {
     "data": {
      "image/png": "[encoded data removed]",
      "text/plain": [
       "<Figure size 1000x600 with 1 Axes>"
      ]
     },
     "metadata": {},
     "output_type": "display_data"
    }
   ],
   "source": [
    "plt.figure(figsize=(10, 6))\n",
    "plt.title('Duration of Charging Sessions')\n",
    "plt.xlabel('Connection Time')\n",
    "plt.ylabel('Duration (hours)')\n",
    "plt.plot(dfCharging['connectionTime'], dfCharging['doneToDisconnectDuration'].dt.total_seconds() / 3600,\n",
    "         marker='o', linestyle='-', color='g', label='Done Charging to Disconnect Duration')\n",
    "\n",
    "plt.legend()\n",
    "plt.grid(True)\n",
    "plt.show()"
   ]
  },
  {
   "cell_type": "code",
   "execution_count": 29,
   "metadata": {
    "ExecuteTime": {
     "end_time": "2023-12-11T11:42:38.781912Z",
     "start_time": "2023-12-11T11:42:38.764374Z"
    }
   },
   "outputs": [
    {
     "data": {
      "text/plain": [
       "array([1, 2], dtype=int64)"
      ]
     },
     "execution_count": 29,
     "metadata": {},
     "output_type": "execute_result"
    }
   ],
   "source": [
    "dfCharging[\"siteID\"].unique()"
   ]
  },
  {
   "cell_type": "markdown",
   "metadata": {},
   "source": [
    "## Analysis of missing values of 'doneChargingTime'"
   ]
  },
  {
   "cell_type": "code",
   "execution_count": 30,
   "metadata": {
    "ExecuteTime": {
     "end_time": "2023-12-11T11:42:38.985488Z",
     "start_time": "2023-12-11T11:42:38.778814Z"
    }
   },
   "outputs": [],
   "source": [
    "import json\n",
    "import math"
   ]
  },
  {
   "cell_type": "code",
   "execution_count": 42,
   "metadata": {
    "ExecuteTime": {
     "end_time": "2023-12-11T11:42:38.985936Z",
     "start_time": "2023-12-11T11:42:38.799247Z"
    }
   },
   "outputs": [],
   "source": [
    "#methods for data transformation\n",
    "\n",
    "#transform 'userInputs' object to dictionary data type\n",
    "def userInputStringToDictionary(entry):\n",
    "    \n",
    "    s = entry.replace(\"\\'\", \"\\\"\").replace(\"True\", \"1\").replace(\"False\",\"0\")\n",
    "    return json.loads(s)[0]\n",
    "\n",
    "#cast of time variables\n",
    "def transformDictionaryForTimeComparison(entry):\n",
    "    \n",
    "    entry['minutesAvailable'] = int(entry['minutesAvailable'])\n",
    "    entry['modifiedAt'] = pd.to_datetime(entry['modifiedAt'])\n",
    "    entry['requestedDeparture'] = pd.to_datetime(entry['requestedDeparture'])\n",
    "    return entry\n",
    "\n",
    "#checks if 'minutesAvailable' == 'requestedDeparture' - 'connectionTime' and sets true or false for new dictionary value \n",
    "#'minutesAvailableValid'\n",
    "def calculateTimeDelta(entry):\n",
    "    \n",
    "    deltaUp = math.ceil((entry['requestedDeparture']-entry['connectionTime']).total_seconds() / 60)\n",
    "    deltaDown = deltaUp - 1\n",
    "    result = (deltaUp == entry['userInputs']['minutesAvailable']) or (deltaDown == entry['userInputs']['minutesAvailable'])\n",
    "    entry['userInputs']['minutesAvailableValid'] = result\n",
    "    return entry['userInputs']\n",
    "\n",
    "#return 'requestedDeparture' value from dictionary 'userInputs'\n",
    "def returnRequestedDeparture(entry):\n",
    "    \n",
    "    return entry['requestedDeparture']\n",
    "\n",
    "#return 'kWhRequested' value from dictionary 'userInputs'\n",
    "def returnKwhRequested(entry):\n",
    "    \n",
    "    return entry['kWhRequested']"
   ]
  },
  {
   "cell_type": "code",
   "execution_count": 43,
   "metadata": {
    "ExecuteTime": {
     "end_time": "2023-12-11T11:43:59.125987Z",
     "start_time": "2023-12-11T11:42:38.808302Z"
    }
   },
   "outputs": [],
   "source": [
    "dfFull = dfCharging.copy()\n",
    "\n",
    "#Transform dateTime columns\n",
    "dfFull['connectionTime'] = pd.to_datetime(dfFull['connectionTime'])\n",
    "dfFull['disconnectTime'] = pd.to_datetime(dfFull['disconnectTime'])\n",
    "dfFull['doneChargingTime'] = pd.to_datetime(dfFull['doneChargingTime'])\n",
    "\n",
    "#Transform 'userInputs' into dictionary type\n",
    "dfFull['userInputs'] = dfFull[~dfFull['userInputs'].isna()]['userInputs'].apply(userInputStringToDictionary)\n",
    "\n",
    "#Transform datetime values in dictionary to dateTime\n",
    "dfFull['userInputs'] = dfFull[~dfFull['userInputs'].isna()]['userInputs'].apply(transformDictionaryForTimeComparison)\n",
    "\n",
    "#Create Column for some 'userInput' (dictionary) values\n",
    "dfFull['requestedDeparture'] = dfFull[~dfFull['userInputs'].isna()]['userInputs'].apply(returnRequestedDeparture)\n",
    "dfFull['kWhRequested'] = dfFull[~dfFull['userInputs'].isna()]['userInputs'].apply(returnKwhRequested)\n",
    "\n",
    "#Check if 'minutesAvailable' equals 'requestedDeparture' - 'connectionTime'\n",
    "dfFull['userInputs'] = dfFull[~dfFull['userInputs'].isna()].apply(lambda row: calculateTimeDelta(row), axis=1)"
   ]
  },
  {
   "cell_type": "code",
   "execution_count": 36,
   "metadata": {
    "scrolled": false
   },
   "outputs": [
    {
     "name": "stdout",
     "output_type": "stream",
     "text": [
      "<class 'pandas.core.series.Series'>\n",
      "Int64Index: 65037 entries, 0 to 65036\n",
      "Series name: connectionTime\n",
      "Non-Null Count  Dtype              \n",
      "--------------  -----              \n",
      "65037 non-null  datetime64[ns, UTC]\n",
      "dtypes: datetime64[ns, UTC](1)\n",
      "memory usage: 1016.2 KB\n"
     ]
    }
   ],
   "source": [
    "dfFull['connectionTime'].info()"
   ]
  },
  {
   "cell_type": "code",
   "execution_count": 41,
   "metadata": {},
   "outputs": [
    {
     "ename": "AttributeError",
     "evalue": "'Timestamp' object has no attribute 'info'",
     "output_type": "error",
     "traceback": [
      "\u001b[1;31m---------------------------------------------------------------------------\u001b[0m",
      "\u001b[1;31mAttributeError\u001b[0m                            Traceback (most recent call last)",
      "\u001b[1;32m~\\AppData\\Local\\Temp\\ipykernel_8884\\821257823.py\u001b[0m in \u001b[0;36m<module>\u001b[1;34m\u001b[0m\n\u001b[1;32m----> 1\u001b[1;33m \u001b[0mdfFull\u001b[0m\u001b[1;33m.\u001b[0m\u001b[0miloc\u001b[0m\u001b[1;33m[\u001b[0m\u001b[1;36m0\u001b[0m\u001b[1;33m]\u001b[0m\u001b[1;33m[\u001b[0m\u001b[1;34m'userInputs'\u001b[0m\u001b[1;33m]\u001b[0m\u001b[1;33m[\u001b[0m\u001b[1;34m'requestedDeparture'\u001b[0m\u001b[1;33m]\u001b[0m\u001b[1;33m.\u001b[0m\u001b[0minfo\u001b[0m\u001b[1;33m(\u001b[0m\u001b[1;33m)\u001b[0m\u001b[1;33m\u001b[0m\u001b[1;33m\u001b[0m\u001b[0m\n\u001b[0m",
      "\u001b[1;31mAttributeError\u001b[0m: 'Timestamp' object has no attribute 'info'"
     ]
    }
   ],
   "source": [
    "dfFull.iloc[0]['userInputs']['requestedDeparture'].info()"
   ]
  },
  {
   "cell_type": "code",
   "execution_count": 33,
   "metadata": {
    "ExecuteTime": {
     "end_time": "2023-12-11T11:43:59.137315Z",
     "start_time": "2023-12-11T11:43:59.128036Z"
    }
   },
   "outputs": [
    {
     "name": "stdout",
     "output_type": "stream",
     "text": [
      "Nr of samples with userInputs: 47822\n",
      "Nr of samples with userInputs where minutesAvailable equals requestedDeparture - connectionTime:: 47822\n"
     ]
    }
   ],
   "source": [
    "mask = dfFull.dropna(subset=['userInputs'])['userInputs'].apply(lambda x: x.get('minutesAvailableValid', None) is not None and x['minutesAvailableValid'] == True)\n",
    "\n",
    "dfMask = dfFull.dropna(subset=['userInputs'])[mask]\n",
    "\n",
    "print('Nr of samples with userInputs: ' + str(dfFull.dropna(subset=['userInputs']).shape[0]))\n",
    "print('Nr of samples with userInputs where minutesAvailable equals requestedDeparture - connectionTime:: ' + str(dfMask.shape[0]))\n"
   ]
  },
  {
   "cell_type": "code",
   "execution_count": 34,
   "metadata": {
    "ExecuteTime": {
     "start_time": "2023-12-11T11:43:59.131915Z"
    }
   },
   "outputs": [],
   "source": [
    "#create dataset with 'doneChargingTime'\n",
    "dfWithDoneChargingTime = dfFull.dropna(subset=['doneChargingTime']).copy()\n",
    "nrSamplesWithDoneChargingTime = dfWithDoneChargingTime.shape[0]\n",
    "\n",
    "#create dataset with 'doneChargingTime' AND 'userInput'\n",
    "dfWithDoneChargingTimeAndUserInputs = dfWithDoneChargingTime.dropna(subset=['userInputs']).copy()\n",
    "\n",
    "#create dataset without 'doneChargingTime'\n",
    "dfNaNdoneChargingTime = dfFull[dfFull['doneChargingTime'].isnull()].copy()\n",
    "nrSamplesNanDoneChargingTime = dfNaNdoneChargingTime.shape[0]\n",
    "\n",
    "#create dataset without 'doneChargingTime' AND with 'userInput'\n",
    "dfNoDoneTimeWithUserInputs = dfNaNdoneChargingTime.dropna(subset=['userInputs']).copy()\n",
    "nrSamplesNoDoneTimeWithUserInputs = dfNoDoneTimeWithUserInputs.shape[0]\n"
   ]
  },
  {
   "cell_type": "code",
   "execution_count": 35,
   "metadata": {
    "ExecuteTime": {
     "end_time": "2023-12-11T11:43:59.138393Z",
     "start_time": "2023-12-11T11:43:59.137623Z"
    }
   },
   "outputs": [
    {
     "name": "stdout",
     "output_type": "stream",
     "text": [
      "Nr of samples where without doneChargingTime, with userInput and fullfilled kWh request: 296\n",
      "Nr of samples without doneChargingTime, with userInput and not fullfilled kWh request: 2882\n",
      "0.7775874724736971% of the samples where doneChargingTime is missing have userInputs\n",
      "0.705162711034989% of the samples where doneChargingTime is missing have not fullfiled the kWh request\n"
     ]
    }
   ],
   "source": [
    "#Get samples without 'doneChargingTime', with 'userInput' and fullfilled kWh request\n",
    "dfDeliveredKwh = dfNoDoneTimeWithUserInputs[dfNoDoneTimeWithUserInputs['kWhDelivered'] >= dfNoDoneTimeWithUserInputs['kWhRequested']]\n",
    "\n",
    "print('Nr of samples where without doneChargingTime, with userInput and fullfilled kWh request: ' + str(dfDeliveredKwh.shape[0]))\n",
    "\n",
    "#Nr of samples where the car wasnt charged to the requested amount -> 'doneChargingTime' == 'disconnectTime'?\n",
    "nrNotDeliveredKwh = dfNoDoneTimeWithUserInputs[dfNoDoneTimeWithUserInputs['kWhDelivered'] < dfNoDoneTimeWithUserInputs['kWhRequested']].shape[0]\n",
    "print('Nr of samples without doneChargingTime, with userInput and not fullfilled kWh request: ' + str(nrNotDeliveredKwh))\n",
    "\n",
    "print(str(nrSamplesNoDoneTimeWithUserInputs/nrSamplesNanDoneChargingTime) + \"% of the samples where doneChargingTime is missing have userInputs\")\n",
    "\n",
    "print(str(nrNotDeliveredKwh/nrSamplesNanDoneChargingTime) + '% of the samples where doneChargingTime is missing have not fullfiled the kWh request')\n"
   ]
  },
  {
   "cell_type": "markdown",
   "metadata": {},
   "source": [
    "If it means that when the kWh request was not fullfiled, the doneChargingTime is just the disconnectTime, then we could set 71% of the missing doneChargingTime values.\n",
    "\n",
    "So lets have a look at the samples with doneChargingTime and not fullfiled kWh Request. If it is true that doneChargingTime == disconnectTime, then we can solve 71% of the missing values."
   ]
  },
  {
   "cell_type": "code",
   "execution_count": null,
   "metadata": {
    "ExecuteTime": {
     "end_time": "2023-12-11T11:43:59.167628Z",
     "start_time": "2023-12-11T11:43:59.142919Z"
    }
   },
   "outputs": [],
   "source": [
    "def calcDiffDisconnectAndDoneCharging(entry):\n",
    "    \n",
    "    return (entry['disconnectTime']-entry['doneChargingTime']).total_seconds()/60/60\n",
    "\n",
    "dfNotDeliveredKwh = dfWithDoneChargingTimeAndUserInputs[dfWithDoneChargingTimeAndUserInputs['kWhDelivered'] < dfWithDoneChargingTimeAndUserInputs['kWhRequested']]\n",
    "\n",
    "dfCalc = dfWithDoneChargingTimeAndUserInputs.apply(lambda row: calcDiffDisconnectAndDoneCharging(row), axis=1)\n",
    "\n",
    "plt.scatter(dfWithDoneChargingTimeAndUserInputs.index, dfCalc, marker='o', linestyle='-')\n",
    "\n",
    "# Set x and y-axis limits\n",
    "#plt.xlim(left=0, right=len(df.index) - 1)  # Adjust left and right as needed\n",
    "plt.ylim(bottom=-50, top=100)  # Adjust bottom as needed\n",
    "\n",
    "\n",
    "# Set labels and title\n",
    "plt.xlabel('samples')\n",
    "#plt.ylabel()\n",
    "plt.title('Deviation disconnectTime from doneChargingTime when kWh request not fullfiled in hours')\n",
    "\n",
    "# Show the plot\n",
    "plt.show()"
   ]
  },
  {
   "cell_type": "markdown",
   "metadata": {},
   "source": [
    "We see that there exist huge deviations between disconnectTime and doneChargingTime when kWh request is not fullfiled. So we cant just set the missing values to be the disconnectTime where kWh request is not fullfiled.\n",
    "#### Probably the utilization of the stations influences the doneChargingTime\n",
    "Which also raises questions as to why, in cases with a deviation of more than e.g. 10 hours, the kWh request was not fullfilled "
   ]
  },
  {
   "cell_type": "markdown",
   "metadata": {},
   "source": [
    "#### Can we just use 'minutesAvailable' and 'requestedkWh' to estimate 'doneChargingTime'?\n",
    "\n",
    "Is the rate of the delivered kWh just stretched to the expected time of availability?\n",
    "Lets look at samples with 'doneChargingTime' and fullfilled kWhRequest. Does the 'doneChargingTime' equal 'connectionTime' + 'minutesAvailable'?"
   ]
  },
  {
   "cell_type": "code",
   "execution_count": null,
   "metadata": {
    "ExecuteTime": {
     "start_time": "2023-12-11T11:43:59.151476Z"
    }
   },
   "outputs": [],
   "source": [
    "def calcDiffDepartAndDoneCharging(entry):\n",
    "    \n",
    "    return (entry['requestedDeparture']-entry['doneChargingTime']).total_seconds()/60/60\n",
    "\n",
    "dfDeliveredKwh = dfWithDoneChargingTimeAndUserInputs[dfWithDoneChargingTimeAndUserInputs['kWhDelivered'] >= dfWithDoneChargingTimeAndUserInputs['kWhRequested']]\n",
    "\n",
    "dfCalc = dfDeliveredKwh.apply(lambda row: calcDiffDepartAndDoneCharging(row), axis=1)\n",
    "\n",
    "plt.scatter(dfDeliveredKwh.index, dfCalc, marker='o', linestyle='-')\n",
    "\n",
    "# Set x and y-axis limits\n",
    "#plt.xlim(left=0, right=len(df.index) - 1)  # Adjust left and right as needed\n",
    "plt.ylim(bottom=-50, top=50)  # Adjust bottom as needed\n",
    "\n",
    "\n",
    "# Set labels and title\n",
    "plt.xlabel('samples')\n",
    "#plt.ylabel()\n",
    "plt.title('Deviation requestedDeparture from doneChargingTime where kWh request was fullfiled in hours')\n",
    "\n",
    "# Show the plot\n",
    "plt.show()"
   ]
  },
  {
   "cell_type": "markdown",
   "metadata": {},
   "source": [
    "Positive values mean that the 'doneChargingTime' was before the originally requested departure time.\n",
    "Negative values mean that the actual departure was later than requested originally and the 'doneChargingTime' was also after the originally requested departure time. \n",
    "#### Too many deviations from 'requestedDeparture' and 'doneChargingTime'"
   ]
  },
  {
   "cell_type": "markdown",
   "metadata": {},
   "source": [
    "### Average delivered kWh per hour \n",
    "\n",
    "Look at samples with 'doneChargingTime' and calculate the charging time. Then get the average by looking at the delivered kWh. Maybe we can use that to estimate the missing values of doneChargingTime where we have kWhRequested from userInputs. Since it seems that the doneChargingTime is influenced by the utilization of the stations, hope is not great."
   ]
  },
  {
   "cell_type": "code",
   "execution_count": null,
   "metadata": {
    "ExecuteTime": {
     "start_time": "2023-12-11T11:43:59.154760Z"
    }
   },
   "outputs": [],
   "source": [
    "dfWithDoneChargingTime['chargingTimeInH'] = dfWithDoneChargingTime['doneChargingTime'] - dfWithDoneChargingTime['connectionTime']\n",
    "dfWithDoneChargingTime['chargingTimeInH'] = dfWithDoneChargingTime['chargingTimeInH'].apply(lambda x: x.total_seconds()/60/60)\n",
    "dfWithDoneChargingTime = dfWithDoneChargingTime[dfWithDoneChargingTime['chargingTimeInH'] > 0]\n",
    "dfWithDoneChargingTime['kWhPerH'] = dfWithDoneChargingTime['kWhDelivered']/dfWithDoneChargingTime['chargingTimeInH']\n",
    "dfWithDoneChargingTime = dfWithDoneChargingTime.dropna(subset=['kWhPerH'])\n"
   ]
  },
  {
   "cell_type": "code",
   "execution_count": null,
   "metadata": {
    "ExecuteTime": {
     "start_time": "2023-12-11T11:43:59.158438Z"
    }
   },
   "outputs": [],
   "source": [
    "dfWithDoneChargingTime['kWhPerH'].var()"
   ]
  },
  {
   "cell_type": "markdown",
   "metadata": {},
   "source": [
    "The kWh per hour values vary far too much, which strongly suggests that you have to look very closely at the utilisation of the stations here. But there could also be another logic behind the charging scheduling which is not deducible from the given dataset.\n",
    "\n",
    "#### Since \"only\" 6% of the samples are missing doneChargingTime, and we would need to make assumptions that we are not sure about to further investigate this matter, and we dont know how important this feature will be for our further work at this moment, we just leave it like it is. Later we can consider if we drop the samples with missing values or drop the feature itself or make further investigations (which is unlikely)."
   ]
  },
  {
   "cell_type": "markdown",
   "metadata": {},
   "source": [
    "## Next Steps"
   ]
  },
  {
   "cell_type": "markdown",
   "metadata": {},
   "source": [
    "\n",
    "- Merge charging and weather data\n",
    "- Look for the amount missing values in weather data after merging\n",
    "- Check if there are other weather data available somewhere else\n",
    "- (Maybe) separate charging data depending on sideID and check for doneCharging/disconnectTime differences"
   ]
  },
  {
   "cell_type": "markdown",
   "metadata": {
    "jupyter": {
     "outputs_hidden": false
    }
   },
   "source": [
    "## Merging the two DataFrames"
   ]
  },
  {
   "cell_type": "code",
   "execution_count": 32,
   "metadata": {
    "ExecuteTime": {
     "end_time": "2023-12-11T11:44:15.762630Z",
     "start_time": "2023-12-11T11:44:15.733880Z"
    },
    "jupyter": {
     "outputs_hidden": false
    }
   },
   "outputs": [
    {
     "name": "stdout",
     "output_type": "stream",
     "text": [
      "<class 'pandas.core.frame.DataFrame'>\n",
      "RangeIndex: 66450 entries, 0 to 66449\n",
      "Data columns (total 19 columns):\n",
      " #   Column                    Non-Null Count  Dtype              \n",
      "---  ------                    --------------  -----              \n",
      " 0   Unnamed: 0                66450 non-null  int64              \n",
      " 1   id                        66450 non-null  object             \n",
      " 2   connectionTime            66450 non-null  datetime64[ns, UTC]\n",
      " 3   disconnectTime            66450 non-null  datetime64[ns, UTC]\n",
      " 4   doneChargingTime          62362 non-null  datetime64[ns, UTC]\n",
      " 5   kWhDelivered              66450 non-null  float64            \n",
      " 6   sessionID                 66450 non-null  object             \n",
      " 7   siteID                    66450 non-null  int64              \n",
      " 8   spaceID                   66450 non-null  object             \n",
      " 9   stationID                 66450 non-null  object             \n",
      " 10  timezone                  66450 non-null  object             \n",
      " 11  userID                    49187 non-null  float64            \n",
      " 12  userInputs                49187 non-null  object             \n",
      " 13  calculatedDuration        62362 non-null  timedelta64[ns]    \n",
      " 14  calculatedDurationHours   62362 non-null  float64            \n",
      " 15  chargingDuration          62362 non-null  float64            \n",
      " 16  disconnectDuration        66450 non-null  timedelta64[ns]    \n",
      " 17  doneChargingDuration      62362 non-null  timedelta64[ns]    \n",
      " 18  doneToDisconnectDuration  62362 non-null  timedelta64[ns]    \n",
      "dtypes: datetime64[ns, UTC](3), float64(4), int64(2), object(6), timedelta64[ns](4)\n",
      "memory usage: 9.6+ MB\n"
     ]
    }
   ],
   "source": [
    "dfCharging.info()"
   ]
  },
  {
   "cell_type": "code",
   "execution_count": 33,
   "metadata": {
    "ExecuteTime": {
     "end_time": "2023-12-11T11:44:22.031522Z",
     "start_time": "2023-12-11T11:44:21.889722Z"
    },
    "jupyter": {
     "outputs_hidden": false
    }
   },
   "outputs": [
    {
     "name": "stdout",
     "output_type": "stream",
     "text": [
      "<class 'pandas.core.frame.DataFrame'>\n",
      "RangeIndex: 29244 entries, 0 to 29243\n",
      "Data columns (total 9 columns):\n",
      " #   Column                   Non-Null Count  Dtype  \n",
      "---  ------                   --------------  -----  \n",
      " 0   city                     29244 non-null  object \n",
      " 1   timestamp                29244 non-null  object \n",
      " 2   temperature              29244 non-null  float64\n",
      " 3   cloud_cover              29244 non-null  float64\n",
      " 4   cloud_cover_description  29244 non-null  object \n",
      " 5   pressure                 29244 non-null  float64\n",
      " 6   windspeed                29244 non-null  float64\n",
      " 7   precipitation            29244 non-null  float64\n",
      " 8   felt_temperature         29244 non-null  float64\n",
      "dtypes: float64(6), object(3)\n",
      "memory usage: 2.0+ MB\n"
     ]
    }
   ],
   "source": [
    "dfWeather.info()"
   ]
  },
  {
   "cell_type": "code",
   "execution_count": 34,
   "metadata": {
    "ExecuteTime": {
     "end_time": "2023-12-11T11:46:48.672205Z",
     "start_time": "2023-12-11T11:46:48.502495Z"
    },
    "jupyter": {
     "outputs_hidden": false
    }
   },
   "outputs": [],
   "source": [
    "# Convert the type object to datetime\n",
    "dfWeather[\"timestamp\"] = pd.to_datetime(dfWeather[\"timestamp\"])"
   ]
  },
  {
   "cell_type": "code",
   "execution_count": 35,
   "metadata": {
    "ExecuteTime": {
     "end_time": "2023-12-11T11:49:33.577924Z",
     "start_time": "2023-12-11T11:49:33.479557Z"
    },
    "jupyter": {
     "outputs_hidden": false
    }
   },
   "outputs": [],
   "source": [
    "# Convert to datetime without timezone information\n",
    "dfCharging['connectionTime'] = dfCharging['connectionTime'].dt.tz_localize(None)"
   ]
  },
  {
   "cell_type": "code",
   "execution_count": 44,
   "metadata": {
    "ExecuteTime": {
     "end_time": "2023-12-11T12:08:59.345996Z",
     "start_time": "2023-12-11T12:08:59.296598Z"
    },
    "jupyter": {
     "outputs_hidden": false
    }
   },
   "outputs": [
    {
     "data": {
      "text/plain": [
       "0   2020-01-02 13:08:54\n",
       "1   2020-01-02 13:36:50\n",
       "2   2020-01-02 13:56:35\n",
       "3   2020-01-02 13:59:58\n",
       "4   2020-01-02 14:00:01\n",
       "Name: connectionTime, dtype: datetime64[ns]"
      ]
     },
     "execution_count": 44,
     "metadata": {},
     "output_type": "execute_result"
    }
   ],
   "source": [
    "dfCharging['connectionTime'].head()"
   ]
  },
  {
   "cell_type": "code",
   "execution_count": 45,
   "metadata": {
    "ExecuteTime": {
     "end_time": "2023-12-11T12:09:14.295065Z",
     "start_time": "2023-12-11T12:09:14.256766Z"
    },
    "jupyter": {
     "outputs_hidden": false
    }
   },
   "outputs": [
    {
     "data": {
      "text/plain": [
       "0   2018-01-01 08:53:00\n",
       "1   2018-01-01 09:53:00\n",
       "2   2018-01-01 10:53:00\n",
       "3   2018-01-01 11:53:00\n",
       "4   2018-01-01 12:53:00\n",
       "Name: timestamp, dtype: datetime64[ns]"
      ]
     },
     "execution_count": 45,
     "metadata": {},
     "output_type": "execute_result"
    }
   ],
   "source": [
    "dfWeather['timestamp'].head()"
   ]
  },
  {
   "cell_type": "code",
   "execution_count": 56,
   "metadata": {
    "ExecuteTime": {
     "end_time": "2023-12-11T13:07:23.289541Z",
     "start_time": "2023-12-11T13:07:23.147071Z"
    },
    "jupyter": {
     "outputs_hidden": false
    }
   },
   "outputs": [],
   "source": [
    "# Sort values for merge_asof to work\n",
    "dfCharging.sort_values('connectionTime', inplace=True)\n",
    "dfWeather.sort_values('timestamp', inplace=True)\n",
    "\n",
    "# Merge the two datasets according to their timestamps. \n",
    "# Use merge_asof to merge according to the nearest timestamp found in dfWeather with a tolerance of 5 hours\n",
    "dfMerged = pd.merge_asof(dfCharging, dfWeather, left_on = \"connectionTime\", right_on = \"timestamp\", tolerance = pd.Timedelta(hours=5))\n",
    "    "
   ]
  },
  {
   "cell_type": "code",
   "execution_count": 59,
   "metadata": {
    "ExecuteTime": {
     "end_time": "2023-12-11T13:07:33.656830Z",
     "start_time": "2023-12-11T13:07:33.559354Z"
    },
    "jupyter": {
     "outputs_hidden": false
    }
   },
   "outputs": [
    {
     "data": {
      "text/plain": [
       "Unnamed: 0                      0\n",
       "id                              0\n",
       "connectionTime                  0\n",
       "disconnectTime                  0\n",
       "doneChargingTime             4088\n",
       "kWhDelivered                    0\n",
       "sessionID                       0\n",
       "siteID                          0\n",
       "spaceID                         0\n",
       "stationID                       0\n",
       "timezone                        0\n",
       "userID                      17263\n",
       "userInputs                  17263\n",
       "calculatedDuration           4088\n",
       "calculatedDurationHours      4088\n",
       "chargingDuration             4088\n",
       "disconnectDuration              0\n",
       "doneChargingDuration         4088\n",
       "doneToDisconnectDuration     4088\n",
       "local_connection_time           0\n",
       "nearest_timestamp               0\n",
       "city                         9013\n",
       "timestamp                    9013\n",
       "temperature                  9013\n",
       "cloud_cover                  9013\n",
       "cloud_cover_description      9013\n",
       "pressure                     9013\n",
       "windspeed                    9013\n",
       "precipitation                9013\n",
       "felt_temperature             9013\n",
       "dtype: int64"
      ]
     },
     "execution_count": 59,
     "metadata": {},
     "output_type": "execute_result"
    }
   ],
   "source": [
    "dfMerged.isnull().sum()"
   ]
  },
  {
   "cell_type": "markdown",
   "metadata": {
    "jupyter": {
     "outputs_hidden": false
    }
   },
   "source": [
    "**We are missing weather data for 9013 observations in the charging data.**"
   ]
  },
  {
   "cell_type": "code",
   "execution_count": null,
   "metadata": {
    "jupyter": {
     "outputs_hidden": false
    }
   },
   "outputs": [],
   "source": []
  }
 ],
 "metadata": {
  "kernelspec": {
   "display_name": "Python 3 (ipykernel)",
   "language": "python",
   "name": "python3"
  },
  "language_info": {
   "codemirror_mode": {
    "name": "ipython",
    "version": 3
   },
   "file_extension": ".py",
   "mimetype": "text/x-python",
   "name": "python",
   "nbconvert_exporter": "python",
   "pygments_lexer": "ipython3",
   "version": "3.9.13"
  },
  "toc": {
   "base_numbering": 1,
   "nav_menu": {},
   "number_sections": true,
   "sideBar": true,
   "skip_h1_title": false,
   "title_cell": "Table of Contents",
   "title_sidebar": "Contents",
   "toc_cell": false,
   "toc_position": {},
   "toc_section_display": true,
   "toc_window_display": true
  }
 },
 "nbformat": 4,
 "nbformat_minor": 4
}
